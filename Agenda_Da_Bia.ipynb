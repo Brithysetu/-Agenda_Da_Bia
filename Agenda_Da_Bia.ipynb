{
  "cells": [
    {
      "cell_type": "markdown",
      "metadata": {
        "id": "view-in-github",
        "colab_type": "text"
      },
      "source": [
        "<a href=\"https://colab.research.google.com/github/Brithysetu/-Agenda_Da_Bia/blob/main/Agenda_Da_Bia.ipynb\" target=\"_parent\"><img src=\"https://colab.research.google.com/assets/colab-badge.svg\" alt=\"Open In Colab\"/></a>"
      ]
    },
    {
      "cell_type": "code",
      "execution_count": null,
      "metadata": {
        "colab": {
          "background_save": true,
          "base_uri": "https://localhost:8080/"
        },
        "id": "bfEouTmgTAlF",
        "outputId": "f918e156-b9da-4f3d-9d1b-e5b5fffb6c0f"
      },
      "outputs": [
        {
          "name": "stdout",
          "output_type": "stream",
          "text": [
            "======= AGENDA DA BIA ======\n",
            "Olá, tudo bem? meu nome é Bia e eu sou sua agenda virtual\n",
            "Olá eu, Seja bem vindo(a)! é um prazer te conhecer!\n",
            "vejo que você quer colocar um lembrete no calendario\n",
            "certo, você anotou para lembrar de: bolo\n",
            "essa informaçao esta correta? digite sim ou não\n",
            " Excelente, vamos continuar então!\n",
            " certo, você deseja para:  22/05/24\n",
            "ah desculpa, vou corrigir!\n"
          ]
        }
      ],
      "source": [
        "\n",
        "print('======= AGENDA DA BIA ======')\n",
        "print(f'Olá, tudo bem? meu nome é Bia e eu sou sua agenda virtual')\n",
        "nome = input(\"como posso te chamar?\")\n",
        "print(f'Olá {nome}, Seja bem vindo(a)! é um prazer te conhecer!')\n",
        "print( f'vejo que você quer colocar um lembrete no calendario')\n",
        "lembrete = input(\"o que você quer lembrar?\")\n",
        "print(f'certo, você anotou para lembrar de: {lembrete}')\n",
        "#como colocar perguntas de sim e não ?\n",
        "print (\"essa informaçao esta correta? digite sim ou não\")\n",
        "resposta = input (bool(\" sim ou não?\"))\n",
        "if resposta == 'sim':\n",
        "    print(f\" Excelente, vamos continuar então!\")\n",
        "    data_lembrete = input (\"para que data deseja agendar esse lembrete?\")\n",
        "    print(f' certo, você deseja para:  {data_lembrete}')\n",
        "else:\n",
        "    print(\"ah desculpa, vou corrigir!\")\n",
        "    lembrete2= input(\"o que você quer lembrar?\")\n",
        "#preciso repetir o codigo?\n",
        "\n",
        "    print (\"essa informaçao esta correta? digite sim ou não\")\n",
        "    true = (\"sim\")\n",
        "    false = (\"não\")\n",
        "resposta = input (bool(\"sim ou não?\"))\n",
        "if resposta == 'true':\n",
        "    print(f\" Excelente, vamos continuar então!\")\n",
        "    data_lembrete = input (\"para que data deseja agendar esse lembrete?\")\n",
        "    print(f' certo, você deseja para:  {data_lembrete}')\n",
        "    print(f\" Excelente, {lembrete}, {data_lembrete}, salvo com sucesso!\")\n",
        "\n",
        "\n",
        "else:\n",
        "    print(\"ah desculpa, vou corrigir!\")\n",
        "    lembrete2= input(\"o que você quer lembrar?\")\n",
        "\n",
        "\n",
        "\n",
        "#continuação\n",
        "# como colocar perguntas de sim e não ?\n"
      ]
    }
  ],
  "metadata": {
    "colab": {
      "provenance": [],
      "authorship_tag": "ABX9TyNPqJ2Pe7tou7lZxogBOI6Q",
      "include_colab_link": true
    },
    "kernelspec": {
      "display_name": "Python 3",
      "name": "python3"
    },
    "language_info": {
      "name": "python"
    }
  },
  "nbformat": 4,
  "nbformat_minor": 0
}